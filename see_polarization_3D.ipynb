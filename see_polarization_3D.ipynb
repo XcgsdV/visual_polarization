{
 "cells": [
  {
   "cell_type": "code",
   "execution_count": 162,
   "metadata": {},
   "outputs": [],
   "source": [
    "import numpy as np\n",
    "import matplotlib.pyplot as plt"
   ]
  },
  {
   "cell_type": "code",
   "execution_count": 167,
   "metadata": {},
   "outputs": [],
   "source": [
    "# Define polarization state\n",
    "# x_mag and y_mag both describe electric fields magnitudes. They are measured in V/m or N/kg\n",
    "A = np.sqrt(4/8)            # AND HERE (note if A > 1 the program falls apart. Don't do that.)\n",
    "phi_x = np.deg2rad(30)      # AND HERE\n",
    "phi_y = np.deg2rad(75)      # AND HERE\n",
    "\n",
    "\n",
    "B = np.sqrt(1 - A**2)       # We know A^2 + B^2 = 1, so B is completely defined\n",
    "\n",
    "x_mag = A   # Technically these should be multiplied by E_eff, but since we're just looking for the shape and\n",
    "y_mag = B   # not the actual number of the magnitudes of electric field, E_eff doesn't matter. It's set equal to 1."
   ]
  },
  {
   "cell_type": "markdown",
   "metadata": {},
   "source": [
    "$\\mathbf{E}(z,t) = \\left(E_x e^{i\\phi_x}\\hat{x} + E_y e^{i\\phi_y}\\hat{y}\\right)e^{i(kz-\\omega t)}$"
   ]
  },
  {
   "cell_type": "markdown",
   "metadata": {},
   "source": [
    "Since our goal is to create a static 3D graph, we will freeze time at $t=0$.\n",
    "\n",
    "$\\mathbf{E}(z,t) = \\left( E_x e^{i\\phi_x}\\hat{x} + E_y e^{i\\phi_y} \\hat{y} \\right) e^{ikz}$"
   ]
  },
  {
   "cell_type": "code",
   "execution_count": 168,
   "metadata": {},
   "outputs": [],
   "source": [
    "# Constant declaration\n",
    "wavelength = 520e-9\n",
    "k = 2*np.pi/wavelength\n",
    "\n",
    "# Linspace, designed such that kz_min = 0  and kz_max = n*pi... see markdown below for explanation\n",
    "n = 3\n",
    "z_max = n*wavelength\n",
    "\n",
    "div = 200  # Specifies the divisions of z\n",
    "z = np.linspace(0,z_max,div)"
   ]
  },
  {
   "cell_type": "markdown",
   "metadata": {},
   "source": [
    "I want a graph with $n$ periods/wavelengths, so if we expand $\\mathbf{E}(z)$:\n",
    "\n",
    "$\\mathbf{E}(z) = \\left( E_x e^{i\\phi_x}\\hat{x} + E_y e^{i\\phi_y} \\hat{y} \\right) \\left[\\cos(kz) + i\\sin(kz)\\right]$\n",
    "\n",
    "We see the periodic behavior clearly from the trigonometric functions. Starting at $z=0$, the wave completes a full period at $kz = 2\\pi$. For 5 wavelengths, we thus need $0 \\leq kz \\leq 10\\pi$. Substituting $k = \\tfrac{2\\pi}{\\lambda}$, we find $z_{max} = n\\lambda$"
   ]
  },
  {
   "cell_type": "code",
   "execution_count": 169,
   "metadata": {},
   "outputs": [],
   "source": [
    "# 3D graphing calculations\n",
    "E = np.array([x_mag*np.e**(1j*(k*z + phi_x)), y_mag*np.e**(1j*(k*z + phi_y))])\n",
    "E_x = E[0].real\n",
    "E_y = E[1].real"
   ]
  },
  {
   "cell_type": "code",
   "execution_count": 170,
   "metadata": {},
   "outputs": [
    {
     "data": {
      "image/png": "[encoded data removed]",
      "text/plain": [
       "<Figure size 640x480 with 1 Axes>"
      ]
     },
     "metadata": {},
     "output_type": "display_data"
    }
   ],
   "source": [
    "# Create a 3D plot\n",
    "fig = plt.figure('equal')\n",
    "ax = fig.add_subplot(111, projection='3d')\n",
    "\n",
    "# Set background cube to white \n",
    "ax.zaxis.set_pane_color((1, 1, 1, 1))\n",
    "ax.xaxis.set_pane_color((1, 1, 1, 1))\n",
    "ax.yaxis.set_pane_color((1, 1, 1, 1))\n",
    "\n",
    "# Make original axes lines white\n",
    "ax.zaxis.line.set_color((1, 1, 1))\n",
    "ax.xaxis.line.set_color((1, 1, 1))\n",
    "ax.yaxis.line.set_color((1, 1, 1))\n",
    "\n",
    "# Ensure x- and y- axes are scaled the same, so our ellipses are true to scale\n",
    "if (x_mag >= y_mag):\n",
    "    lim = (-1.4*x_mag, 1.4*x_mag)\n",
    "else:\n",
    "    lim = (-1.4*y_mag, 1.4*y_mag)\n",
    "\n",
    "ax.set_ylim(lim)\n",
    "ax.set_zlim(lim)\n",
    "\n",
    "# Hide the axis labels\n",
    "ax.set_xlabel('z', size=0)\n",
    "ax.set_ylabel('x', size=0)\n",
    "ax.set_zlabel('y', size=0)\n",
    "\n",
    "# Make new labels\n",
    "ax.text(9*z_max/10, max(E_x)/10, max(E_y)/10, \"$z$\", color='black')\n",
    "ax.text(0, lim[1], 0.1*max(E_x), \"$x$\", color='black')\n",
    "ax.text(0, 0.1*max(E_x), lim[1], \"$y$\", color='black')\n",
    "\n",
    "# Remove gridlines and don't show numbers on axes\n",
    "plt.gca().xaxis.set_ticks([])\n",
    "plt.gca().yaxis.set_ticks([])\n",
    "plt.gca().zaxis.set_ticks([])\n",
    "\n",
    "\n",
    "\n",
    "# Ensures square gridlines for x- and y-axes (x and y need to be scaled the same for circles to not be ellipses)\n",
    "ax.set_box_aspect([1,1,1])\n",
    "\n",
    "# Draw new axes lines passing through the origin (this has to be at the end for stuff to look right)\n",
    "ax.plot([0, max(abs(z))], [0, 0], [0, 0], color='black', linewidth=2)  # x-axis\n",
    "ax.plot([0, 0], lim, [0, 0], color='black', linewidth=2)  # y-axis\n",
    "ax.plot([0, 0], [0, 0], lim, color='black', linewidth=2)  # z-axis\n",
    "\n",
    "\n",
    "# Plot the 2D curve on the xy-plane at z=0\n",
    "ax.plot(E_x, E_y, zs=0, zdir='x', color=(0.4, 0.6, 0))\n",
    "\n",
    "# Plot the curve with deep green color\n",
    "ax.plot(z, E_x, E_y, color='green', linewidth=3)\n",
    "\n",
    "\n",
    "\n",
    "# ARROWS ON CURVE 1: Specify the indices where you want to place arrows\n",
    "num_arrows = 3*int(np.floor(n))\n",
    "arrow_indices = []\n",
    "\n",
    "for i in range(num_arrows):\n",
    "    arrow_indices.append(int((i) * div/num_arrows) + 10)\n",
    "\n",
    "# ARROWS ON CURVE 2: Create lists to store coordinates and directions for arrows\n",
    "arrow_coords = []\n",
    "arrow_directions = []\n",
    "\n",
    "for idx in arrow_indices:\n",
    "    arrow_coords.append((z[idx], E_x[idx], E_y[idx]))  # Coordinates of arrow starting point\n",
    "    arrow_directions.append((z[idx+1]-z[idx], E_x[idx+1]-E_x[idx], E_y[idx+1]-E_y[idx]))  # Direction of arrow\n",
    "\n",
    "# ARROWS ON CURVE 3: Add arrows at specified coordinates and directions\n",
    "scalefactor = 1\n",
    "for coord, direction in zip(arrow_coords, arrow_directions):\n",
    "    ax.quiver(*coord, *direction, color='darkgreen', length=.5*scalefactor, arrow_length_ratio=5,linewidth=2)\n",
    "\n",
    "\n",
    "\n",
    "# Change viewing angle\n",
    "ax.view_init(elev=15, azim=-62)\n",
    "\n",
    "\n",
    "#plt.savefig(\"3D_polarization.png\", bbox_inches='tight', pad_inches=0.01)\n",
    "\n",
    "plt.show()"
   ]
  },
  {
   "cell_type": "code",
   "execution_count": null,
   "metadata": {},
   "outputs": [],
   "source": []
  }
 ],
 "metadata": {
  "kernelspec": {
   "display_name": "base",
   "language": "python",
   "name": "python3"
  },
  "language_info": {
   "codemirror_mode": {
    "name": "ipython",
    "version": 3
   },
   "file_extension": ".py",
   "mimetype": "text/x-python",
   "name": "python",
   "nbconvert_exporter": "python",
   "pygments_lexer": "ipython3",
   "version": "3.10.13"
  }
 },
 "nbformat": 4,
 "nbformat_minor": 2
}
